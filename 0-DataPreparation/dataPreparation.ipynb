{
 "cells": [
  {
   "cell_type": "markdown",
   "id": "fd7537b5",
   "metadata": {},
   "source": [
    "### Import Libraries and Data"
   ]
  },
  {
   "cell_type": "code",
   "execution_count": 16,
   "id": "883019ba",
   "metadata": {},
   "outputs": [
    {
     "name": "stdout",
     "output_type": "stream",
     "text": [
      "Umsatz DataFrame:\n"
     ]
    },
    {
     "data": {
      "application/vnd.microsoft.datawrangler.viewer.v0+json": {
       "columns": [
        {
         "name": "index",
         "rawType": "int64",
         "type": "integer"
        },
        {
         "name": "id",
         "rawType": "int64",
         "type": "integer"
        },
        {
         "name": "Datum",
         "rawType": "object",
         "type": "string"
        },
        {
         "name": "Warengruppe",
         "rawType": "int64",
         "type": "integer"
        },
        {
         "name": "Umsatz",
         "rawType": "float64",
         "type": "float"
        }
       ],
       "ref": "0f6c7436-00db-4589-8852-388429bb726b",
       "rows": [
        [
         "0",
         "1307011",
         "2013-07-01",
         "1",
         "148.828353112183"
        ],
        [
         "1",
         "1307021",
         "2013-07-02",
         "1",
         "159.79375714468"
        ],
        [
         "2",
         "1307031",
         "2013-07-03",
         "1",
         "111.885593514353"
        ],
        [
         "3",
         "1307041",
         "2013-07-04",
         "1",
         "168.864940979931"
        ],
        [
         "4",
         "1307051",
         "2013-07-05",
         "1",
         "171.280754117955"
        ]
       ],
       "shape": {
        "columns": 4,
        "rows": 5
       }
      },
      "text/html": [
       "<div>\n",
       "<style scoped>\n",
       "    .dataframe tbody tr th:only-of-type {\n",
       "        vertical-align: middle;\n",
       "    }\n",
       "\n",
       "    .dataframe tbody tr th {\n",
       "        vertical-align: top;\n",
       "    }\n",
       "\n",
       "    .dataframe thead th {\n",
       "        text-align: right;\n",
       "    }\n",
       "</style>\n",
       "<table border=\"1\" class=\"dataframe\">\n",
       "  <thead>\n",
       "    <tr style=\"text-align: right;\">\n",
       "      <th></th>\n",
       "      <th>id</th>\n",
       "      <th>Datum</th>\n",
       "      <th>Warengruppe</th>\n",
       "      <th>Umsatz</th>\n",
       "    </tr>\n",
       "  </thead>\n",
       "  <tbody>\n",
       "    <tr>\n",
       "      <th>0</th>\n",
       "      <td>1307011</td>\n",
       "      <td>2013-07-01</td>\n",
       "      <td>1</td>\n",
       "      <td>148.828353</td>\n",
       "    </tr>\n",
       "    <tr>\n",
       "      <th>1</th>\n",
       "      <td>1307021</td>\n",
       "      <td>2013-07-02</td>\n",
       "      <td>1</td>\n",
       "      <td>159.793757</td>\n",
       "    </tr>\n",
       "    <tr>\n",
       "      <th>2</th>\n",
       "      <td>1307031</td>\n",
       "      <td>2013-07-03</td>\n",
       "      <td>1</td>\n",
       "      <td>111.885594</td>\n",
       "    </tr>\n",
       "    <tr>\n",
       "      <th>3</th>\n",
       "      <td>1307041</td>\n",
       "      <td>2013-07-04</td>\n",
       "      <td>1</td>\n",
       "      <td>168.864941</td>\n",
       "    </tr>\n",
       "    <tr>\n",
       "      <th>4</th>\n",
       "      <td>1307051</td>\n",
       "      <td>2013-07-05</td>\n",
       "      <td>1</td>\n",
       "      <td>171.280754</td>\n",
       "    </tr>\n",
       "  </tbody>\n",
       "</table>\n",
       "</div>"
      ],
      "text/plain": [
       "        id       Datum  Warengruppe      Umsatz\n",
       "0  1307011  2013-07-01            1  148.828353\n",
       "1  1307021  2013-07-02            1  159.793757\n",
       "2  1307031  2013-07-03            1  111.885594\n",
       "3  1307041  2013-07-04            1  168.864941\n",
       "4  1307051  2013-07-05            1  171.280754"
      ]
     },
     "metadata": {},
     "output_type": "display_data"
    },
    {
     "name": "stdout",
     "output_type": "stream",
     "text": [
      "\n",
      "Wetter DataFrame:\n"
     ]
    },
    {
     "data": {
      "application/vnd.microsoft.datawrangler.viewer.v0+json": {
       "columns": [
        {
         "name": "index",
         "rawType": "int64",
         "type": "integer"
        },
        {
         "name": "Datum",
         "rawType": "object",
         "type": "string"
        },
        {
         "name": "Bewoelkung",
         "rawType": "float64",
         "type": "float"
        },
        {
         "name": "Temperatur",
         "rawType": "float64",
         "type": "float"
        },
        {
         "name": "Windgeschwindigkeit",
         "rawType": "int64",
         "type": "integer"
        },
        {
         "name": "Wettercode",
         "rawType": "float64",
         "type": "float"
        }
       ],
       "ref": "cd8e81ab-1e00-4d05-988c-e276c11270d5",
       "rows": [
        [
         "0",
         "2012-01-01",
         "8.0",
         "9.825",
         "14",
         "58.0"
        ],
        [
         "1",
         "2012-01-02",
         "7.0",
         "7.4375",
         "12",
         null
        ],
        [
         "2",
         "2012-01-03",
         "8.0",
         "5.5375",
         "18",
         "63.0"
        ],
        [
         "3",
         "2012-01-04",
         "4.0",
         "5.6875",
         "19",
         "80.0"
        ],
        [
         "4",
         "2012-01-05",
         "6.0",
         "5.3",
         "23",
         "80.0"
        ]
       ],
       "shape": {
        "columns": 5,
        "rows": 5
       }
      },
      "text/html": [
       "<div>\n",
       "<style scoped>\n",
       "    .dataframe tbody tr th:only-of-type {\n",
       "        vertical-align: middle;\n",
       "    }\n",
       "\n",
       "    .dataframe tbody tr th {\n",
       "        vertical-align: top;\n",
       "    }\n",
       "\n",
       "    .dataframe thead th {\n",
       "        text-align: right;\n",
       "    }\n",
       "</style>\n",
       "<table border=\"1\" class=\"dataframe\">\n",
       "  <thead>\n",
       "    <tr style=\"text-align: right;\">\n",
       "      <th></th>\n",
       "      <th>Datum</th>\n",
       "      <th>Bewoelkung</th>\n",
       "      <th>Temperatur</th>\n",
       "      <th>Windgeschwindigkeit</th>\n",
       "      <th>Wettercode</th>\n",
       "    </tr>\n",
       "  </thead>\n",
       "  <tbody>\n",
       "    <tr>\n",
       "      <th>0</th>\n",
       "      <td>2012-01-01</td>\n",
       "      <td>8.0</td>\n",
       "      <td>9.8250</td>\n",
       "      <td>14</td>\n",
       "      <td>58.0</td>\n",
       "    </tr>\n",
       "    <tr>\n",
       "      <th>1</th>\n",
       "      <td>2012-01-02</td>\n",
       "      <td>7.0</td>\n",
       "      <td>7.4375</td>\n",
       "      <td>12</td>\n",
       "      <td>NaN</td>\n",
       "    </tr>\n",
       "    <tr>\n",
       "      <th>2</th>\n",
       "      <td>2012-01-03</td>\n",
       "      <td>8.0</td>\n",
       "      <td>5.5375</td>\n",
       "      <td>18</td>\n",
       "      <td>63.0</td>\n",
       "    </tr>\n",
       "    <tr>\n",
       "      <th>3</th>\n",
       "      <td>2012-01-04</td>\n",
       "      <td>4.0</td>\n",
       "      <td>5.6875</td>\n",
       "      <td>19</td>\n",
       "      <td>80.0</td>\n",
       "    </tr>\n",
       "    <tr>\n",
       "      <th>4</th>\n",
       "      <td>2012-01-05</td>\n",
       "      <td>6.0</td>\n",
       "      <td>5.3000</td>\n",
       "      <td>23</td>\n",
       "      <td>80.0</td>\n",
       "    </tr>\n",
       "  </tbody>\n",
       "</table>\n",
       "</div>"
      ],
      "text/plain": [
       "        Datum  Bewoelkung  Temperatur  Windgeschwindigkeit  Wettercode\n",
       "0  2012-01-01         8.0      9.8250                   14        58.0\n",
       "1  2012-01-02         7.0      7.4375                   12         NaN\n",
       "2  2012-01-03         8.0      5.5375                   18        63.0\n",
       "3  2012-01-04         4.0      5.6875                   19        80.0\n",
       "4  2012-01-05         6.0      5.3000                   23        80.0"
      ]
     },
     "metadata": {},
     "output_type": "display_data"
    },
    {
     "name": "stdout",
     "output_type": "stream",
     "text": [
      "\n",
      "Kiwo DataFrame:\n"
     ]
    },
    {
     "data": {
      "application/vnd.microsoft.datawrangler.viewer.v0+json": {
       "columns": [
        {
         "name": "index",
         "rawType": "int64",
         "type": "integer"
        },
        {
         "name": "Datum",
         "rawType": "object",
         "type": "string"
        },
        {
         "name": "KielerWoche",
         "rawType": "int64",
         "type": "integer"
        }
       ],
       "ref": "74cb5a34-1668-4a9e-8983-71859f1dcc22",
       "rows": [
        [
         "0",
         "2012-06-16",
         "1"
        ],
        [
         "1",
         "2012-06-17",
         "1"
        ],
        [
         "2",
         "2012-06-18",
         "1"
        ],
        [
         "3",
         "2012-06-19",
         "1"
        ],
        [
         "4",
         "2012-06-20",
         "1"
        ]
       ],
       "shape": {
        "columns": 2,
        "rows": 5
       }
      },
      "text/html": [
       "<div>\n",
       "<style scoped>\n",
       "    .dataframe tbody tr th:only-of-type {\n",
       "        vertical-align: middle;\n",
       "    }\n",
       "\n",
       "    .dataframe tbody tr th {\n",
       "        vertical-align: top;\n",
       "    }\n",
       "\n",
       "    .dataframe thead th {\n",
       "        text-align: right;\n",
       "    }\n",
       "</style>\n",
       "<table border=\"1\" class=\"dataframe\">\n",
       "  <thead>\n",
       "    <tr style=\"text-align: right;\">\n",
       "      <th></th>\n",
       "      <th>Datum</th>\n",
       "      <th>KielerWoche</th>\n",
       "    </tr>\n",
       "  </thead>\n",
       "  <tbody>\n",
       "    <tr>\n",
       "      <th>0</th>\n",
       "      <td>2012-06-16</td>\n",
       "      <td>1</td>\n",
       "    </tr>\n",
       "    <tr>\n",
       "      <th>1</th>\n",
       "      <td>2012-06-17</td>\n",
       "      <td>1</td>\n",
       "    </tr>\n",
       "    <tr>\n",
       "      <th>2</th>\n",
       "      <td>2012-06-18</td>\n",
       "      <td>1</td>\n",
       "    </tr>\n",
       "    <tr>\n",
       "      <th>3</th>\n",
       "      <td>2012-06-19</td>\n",
       "      <td>1</td>\n",
       "    </tr>\n",
       "    <tr>\n",
       "      <th>4</th>\n",
       "      <td>2012-06-20</td>\n",
       "      <td>1</td>\n",
       "    </tr>\n",
       "  </tbody>\n",
       "</table>\n",
       "</div>"
      ],
      "text/plain": [
       "        Datum  KielerWoche\n",
       "0  2012-06-16            1\n",
       "1  2012-06-17            1\n",
       "2  2012-06-18            1\n",
       "3  2012-06-19            1\n",
       "4  2012-06-20            1"
      ]
     },
     "metadata": {},
     "output_type": "display_data"
    },
    {
     "name": "stdout",
     "output_type": "stream",
     "text": [
      "\n",
      "Test DataFrame:\n"
     ]
    },
    {
     "data": {
      "application/vnd.microsoft.datawrangler.viewer.v0+json": {
       "columns": [
        {
         "name": "index",
         "rawType": "int64",
         "type": "integer"
        },
        {
         "name": "id",
         "rawType": "int64",
         "type": "integer"
        },
        {
         "name": "Datum",
         "rawType": "datetime64[ns]",
         "type": "datetime"
        },
        {
         "name": "Warengruppe",
         "rawType": "int64",
         "type": "integer"
        }
       ],
       "ref": "1b91034e-c0bd-4dae-a75f-eb8cbf6154b8",
       "rows": [
        [
         "0",
         "1808011",
         "2018-08-01 00:00:00",
         "1"
        ],
        [
         "1",
         "1808021",
         "2018-08-02 00:00:00",
         "1"
        ],
        [
         "2",
         "1808031",
         "2018-08-03 00:00:00",
         "1"
        ],
        [
         "3",
         "1808041",
         "2018-08-04 00:00:00",
         "1"
        ],
        [
         "4",
         "1808051",
         "2018-08-05 00:00:00",
         "1"
        ]
       ],
       "shape": {
        "columns": 3,
        "rows": 5
       }
      },
      "text/html": [
       "<div>\n",
       "<style scoped>\n",
       "    .dataframe tbody tr th:only-of-type {\n",
       "        vertical-align: middle;\n",
       "    }\n",
       "\n",
       "    .dataframe tbody tr th {\n",
       "        vertical-align: top;\n",
       "    }\n",
       "\n",
       "    .dataframe thead th {\n",
       "        text-align: right;\n",
       "    }\n",
       "</style>\n",
       "<table border=\"1\" class=\"dataframe\">\n",
       "  <thead>\n",
       "    <tr style=\"text-align: right;\">\n",
       "      <th></th>\n",
       "      <th>id</th>\n",
       "      <th>Datum</th>\n",
       "      <th>Warengruppe</th>\n",
       "    </tr>\n",
       "  </thead>\n",
       "  <tbody>\n",
       "    <tr>\n",
       "      <th>0</th>\n",
       "      <td>1808011</td>\n",
       "      <td>2018-08-01</td>\n",
       "      <td>1</td>\n",
       "    </tr>\n",
       "    <tr>\n",
       "      <th>1</th>\n",
       "      <td>1808021</td>\n",
       "      <td>2018-08-02</td>\n",
       "      <td>1</td>\n",
       "    </tr>\n",
       "    <tr>\n",
       "      <th>2</th>\n",
       "      <td>1808031</td>\n",
       "      <td>2018-08-03</td>\n",
       "      <td>1</td>\n",
       "    </tr>\n",
       "    <tr>\n",
       "      <th>3</th>\n",
       "      <td>1808041</td>\n",
       "      <td>2018-08-04</td>\n",
       "      <td>1</td>\n",
       "    </tr>\n",
       "    <tr>\n",
       "      <th>4</th>\n",
       "      <td>1808051</td>\n",
       "      <td>2018-08-05</td>\n",
       "      <td>1</td>\n",
       "    </tr>\n",
       "  </tbody>\n",
       "</table>\n",
       "</div>"
      ],
      "text/plain": [
       "        id      Datum  Warengruppe\n",
       "0  1808011 2018-08-01            1\n",
       "1  1808021 2018-08-02            1\n",
       "2  1808031 2018-08-03            1\n",
       "3  1808041 2018-08-04            1\n",
       "4  1808051 2018-08-05            1"
      ]
     },
     "metadata": {},
     "output_type": "display_data"
    }
   ],
   "source": [
    "# Import necessary libraries\n",
    "import pandas as pd\n",
    "import numpy as np\n",
    "import os\n",
    "\n",
    "### LOAD DATA\n",
    "umsatz_url = \"https://raw.githubusercontent.com/opencampus-sh/einfuehrung-in-data-science-und-ml/main/umsatzdaten_gekuerzt.csv\"\n",
    "wetter_url = \"https://raw.githubusercontent.com/opencampus-sh/einfuehrung-in-data-science-und-ml/main/wetter.csv\"\n",
    "kiwo_url = \"https://raw.githubusercontent.com/opencampus-sh/einfuehrung-in-data-science-und-ml/main/kiwo.csv\"\n",
    "\n",
    "# Load external data\n",
    "umsatz_df = pd.read_csv(umsatz_url)\n",
    "wetter_df = pd.read_csv(wetter_url)\n",
    "kiwo_df   = pd.read_csv(kiwo_url)\n",
    "test_df   = pd.read_csv(\"test.csv\",  parse_dates=[\"Datum\"])\n",
    "\n",
    "#print headers of the dataframes\n",
    "print(\"Umsatz DataFrame:\")\n",
    "display(umsatz_df.head())\n",
    "print(\"\\nWetter DataFrame:\")\n",
    "display(wetter_df.head())\n",
    "print(\"\\nKiwo DataFrame:\")\n",
    "display(kiwo_df.head())\n",
    "print(\"\\nTest DataFrame:\")\n",
    "display(test_df.head())"
   ]
  },
  {
   "cell_type": "markdown",
   "id": "41561a34",
   "metadata": {},
   "source": [
    "### Merging Data"
   ]
  },
  {
   "cell_type": "code",
   "execution_count": 17,
   "id": "0ec63e90",
   "metadata": {},
   "outputs": [
    {
     "name": "stdout",
     "output_type": "stream",
     "text": [
      "Merged DataFrame:\n"
     ]
    },
    {
     "data": {
      "application/vnd.microsoft.datawrangler.viewer.v0+json": {
       "columns": [
        {
         "name": "index",
         "rawType": "int64",
         "type": "integer"
        },
        {
         "name": "id",
         "rawType": "int64",
         "type": "integer"
        },
        {
         "name": "Datum",
         "rawType": "datetime64[ns]",
         "type": "datetime"
        },
        {
         "name": "Warengruppe",
         "rawType": "int64",
         "type": "integer"
        },
        {
         "name": "Umsatz",
         "rawType": "float64",
         "type": "float"
        },
        {
         "name": "Bewoelkung",
         "rawType": "float64",
         "type": "float"
        },
        {
         "name": "Temperatur",
         "rawType": "float64",
         "type": "float"
        },
        {
         "name": "Windgeschwindigkeit",
         "rawType": "float64",
         "type": "float"
        },
        {
         "name": "Wettercode",
         "rawType": "float64",
         "type": "float"
        },
        {
         "name": "KielerWoche",
         "rawType": "float64",
         "type": "float"
        }
       ],
       "ref": "e8987049-37d7-4277-a239-da7edb4f95c2",
       "rows": [
        [
         "0",
         "1307011",
         "2013-07-01 00:00:00",
         "1",
         "148.828353112183",
         "6.0",
         "17.8375",
         "15.0",
         "20.0",
         null
        ],
        [
         "3638",
         "1307013",
         "2013-07-01 00:00:00",
         "3",
         "201.198425690037",
         "6.0",
         "17.8375",
         "15.0",
         "20.0",
         null
        ],
        [
         "5457",
         "1307014",
         "2013-07-01 00:00:00",
         "4",
         "65.890168799361",
         "6.0",
         "17.8375",
         "15.0",
         "20.0",
         null
        ],
        [
         "7223",
         "1307015",
         "2013-07-01 00:00:00",
         "5",
         "317.475874933038",
         "6.0",
         "17.8375",
         "15.0",
         "20.0",
         null
        ],
        [
         "1819",
         "1307012",
         "2013-07-01 00:00:00",
         "2",
         "535.856284785361",
         "6.0",
         "17.8375",
         "15.0",
         "20.0",
         null
        ]
       ],
       "shape": {
        "columns": 9,
        "rows": 5
       }
      },
      "text/html": [
       "<div>\n",
       "<style scoped>\n",
       "    .dataframe tbody tr th:only-of-type {\n",
       "        vertical-align: middle;\n",
       "    }\n",
       "\n",
       "    .dataframe tbody tr th {\n",
       "        vertical-align: top;\n",
       "    }\n",
       "\n",
       "    .dataframe thead th {\n",
       "        text-align: right;\n",
       "    }\n",
       "</style>\n",
       "<table border=\"1\" class=\"dataframe\">\n",
       "  <thead>\n",
       "    <tr style=\"text-align: right;\">\n",
       "      <th></th>\n",
       "      <th>id</th>\n",
       "      <th>Datum</th>\n",
       "      <th>Warengruppe</th>\n",
       "      <th>Umsatz</th>\n",
       "      <th>Bewoelkung</th>\n",
       "      <th>Temperatur</th>\n",
       "      <th>Windgeschwindigkeit</th>\n",
       "      <th>Wettercode</th>\n",
       "      <th>KielerWoche</th>\n",
       "    </tr>\n",
       "  </thead>\n",
       "  <tbody>\n",
       "    <tr>\n",
       "      <th>0</th>\n",
       "      <td>1307011</td>\n",
       "      <td>2013-07-01</td>\n",
       "      <td>1</td>\n",
       "      <td>148.828353</td>\n",
       "      <td>6.0</td>\n",
       "      <td>17.8375</td>\n",
       "      <td>15.0</td>\n",
       "      <td>20.0</td>\n",
       "      <td>NaN</td>\n",
       "    </tr>\n",
       "    <tr>\n",
       "      <th>3638</th>\n",
       "      <td>1307013</td>\n",
       "      <td>2013-07-01</td>\n",
       "      <td>3</td>\n",
       "      <td>201.198426</td>\n",
       "      <td>6.0</td>\n",
       "      <td>17.8375</td>\n",
       "      <td>15.0</td>\n",
       "      <td>20.0</td>\n",
       "      <td>NaN</td>\n",
       "    </tr>\n",
       "    <tr>\n",
       "      <th>5457</th>\n",
       "      <td>1307014</td>\n",
       "      <td>2013-07-01</td>\n",
       "      <td>4</td>\n",
       "      <td>65.890169</td>\n",
       "      <td>6.0</td>\n",
       "      <td>17.8375</td>\n",
       "      <td>15.0</td>\n",
       "      <td>20.0</td>\n",
       "      <td>NaN</td>\n",
       "    </tr>\n",
       "    <tr>\n",
       "      <th>7223</th>\n",
       "      <td>1307015</td>\n",
       "      <td>2013-07-01</td>\n",
       "      <td>5</td>\n",
       "      <td>317.475875</td>\n",
       "      <td>6.0</td>\n",
       "      <td>17.8375</td>\n",
       "      <td>15.0</td>\n",
       "      <td>20.0</td>\n",
       "      <td>NaN</td>\n",
       "    </tr>\n",
       "    <tr>\n",
       "      <th>1819</th>\n",
       "      <td>1307012</td>\n",
       "      <td>2013-07-01</td>\n",
       "      <td>2</td>\n",
       "      <td>535.856285</td>\n",
       "      <td>6.0</td>\n",
       "      <td>17.8375</td>\n",
       "      <td>15.0</td>\n",
       "      <td>20.0</td>\n",
       "      <td>NaN</td>\n",
       "    </tr>\n",
       "  </tbody>\n",
       "</table>\n",
       "</div>"
      ],
      "text/plain": [
       "           id      Datum  Warengruppe      Umsatz  Bewoelkung  Temperatur  \\\n",
       "0     1307011 2013-07-01            1  148.828353         6.0     17.8375   \n",
       "3638  1307013 2013-07-01            3  201.198426         6.0     17.8375   \n",
       "5457  1307014 2013-07-01            4   65.890169         6.0     17.8375   \n",
       "7223  1307015 2013-07-01            5  317.475875         6.0     17.8375   \n",
       "1819  1307012 2013-07-01            2  535.856285         6.0     17.8375   \n",
       "\n",
       "      Windgeschwindigkeit  Wettercode  KielerWoche  \n",
       "0                    15.0        20.0          NaN  \n",
       "3638                 15.0        20.0          NaN  \n",
       "5457                 15.0        20.0          NaN  \n",
       "7223                 15.0        20.0          NaN  \n",
       "1819                 15.0        20.0          NaN  "
      ]
     },
     "metadata": {},
     "output_type": "display_data"
    }
   ],
   "source": [
    "### MERGE DATA\n",
    "merged_df = pd.concat([umsatz_df, test_df], axis=0, ignore_index=True)\n",
    "merged_df = pd.merge(merged_df, wetter_df, on=\"Datum\", how=\"left\")\n",
    "merged_df = pd.merge(merged_df, kiwo_df, on=\"Datum\", how=\"left\")\n",
    "merged_df[\"Datum\"] = pd.to_datetime(merged_df[\"Datum\"])\n",
    "merged_df = merged_df.sort_values('Datum')\n",
    "\n",
    "# print headers of the dataframes\n",
    "print(\"Merged DataFrame:\")\n",
    "display(merged_df.head())"
   ]
  },
  {
   "cell_type": "markdown",
   "id": "78c629bf",
   "metadata": {},
   "source": [
    "### Data Cleaning + Imputing"
   ]
  },
  {
   "cell_type": "code",
   "execution_count": 18,
   "id": "70dffd2a",
   "metadata": {},
   "outputs": [
    {
     "name": "stdout",
     "output_type": "stream",
     "text": [
      "Merged DataFrame:\n"
     ]
    },
    {
     "name": "stderr",
     "output_type": "stream",
     "text": [
      "/tmp/ipykernel_80803/284560231.py:7: FutureWarning: Series.fillna with 'method' is deprecated and will raise in a future version. Use obj.ffill() or obj.bfill() instead.\n",
      "  merged_df[\"Wettercode\"] = merged_df[\"Wettercode\"].fillna(method=\"ffill\").fillna(method=\"bfill\")\n"
     ]
    },
    {
     "data": {
      "application/vnd.microsoft.datawrangler.viewer.v0+json": {
       "columns": [
        {
         "name": "index",
         "rawType": "int64",
         "type": "integer"
        },
        {
         "name": "Datum",
         "rawType": "datetime64[ns]",
         "type": "datetime"
        },
        {
         "name": "id",
         "rawType": "int64",
         "type": "integer"
        },
        {
         "name": "Warengruppe",
         "rawType": "int64",
         "type": "integer"
        },
        {
         "name": "Umsatz",
         "rawType": "float64",
         "type": "float"
        },
        {
         "name": "Bewoelkung",
         "rawType": "float64",
         "type": "float"
        },
        {
         "name": "Temperatur",
         "rawType": "float64",
         "type": "float"
        },
        {
         "name": "Windgeschwindigkeit",
         "rawType": "float64",
         "type": "float"
        },
        {
         "name": "Wettercode",
         "rawType": "float64",
         "type": "float"
        },
        {
         "name": "KielerWoche",
         "rawType": "float64",
         "type": "float"
        }
       ],
       "ref": "b85ee0de-090c-4ad0-b7b5-453926884560",
       "rows": [
        [
         "0",
         "2013-07-01 00:00:00",
         "1307011",
         "1",
         "148.828353112183",
         "6.0",
         "17.8375",
         "15.0",
         "20.0",
         "0.0"
        ],
        [
         "1",
         "2013-07-01 00:00:00",
         "1307013",
         "3",
         "201.198425690037",
         "6.0",
         "17.8375",
         "15.0",
         "20.0",
         "0.0"
        ],
        [
         "2",
         "2013-07-01 00:00:00",
         "1307014",
         "4",
         "65.890168799361",
         "6.0",
         "17.8375",
         "15.0",
         "20.0",
         "0.0"
        ],
        [
         "3",
         "2013-07-01 00:00:00",
         "1307015",
         "5",
         "317.475874933038",
         "6.0",
         "17.8375",
         "15.0",
         "20.0",
         "0.0"
        ],
        [
         "4",
         "2013-07-01 00:00:00",
         "1307012",
         "2",
         "535.856284785361",
         "6.0",
         "17.8375",
         "15.0",
         "20.0",
         "0.0"
        ]
       ],
       "shape": {
        "columns": 9,
        "rows": 5
       }
      },
      "text/html": [
       "<div>\n",
       "<style scoped>\n",
       "    .dataframe tbody tr th:only-of-type {\n",
       "        vertical-align: middle;\n",
       "    }\n",
       "\n",
       "    .dataframe tbody tr th {\n",
       "        vertical-align: top;\n",
       "    }\n",
       "\n",
       "    .dataframe thead th {\n",
       "        text-align: right;\n",
       "    }\n",
       "</style>\n",
       "<table border=\"1\" class=\"dataframe\">\n",
       "  <thead>\n",
       "    <tr style=\"text-align: right;\">\n",
       "      <th></th>\n",
       "      <th>Datum</th>\n",
       "      <th>id</th>\n",
       "      <th>Warengruppe</th>\n",
       "      <th>Umsatz</th>\n",
       "      <th>Bewoelkung</th>\n",
       "      <th>Temperatur</th>\n",
       "      <th>Windgeschwindigkeit</th>\n",
       "      <th>Wettercode</th>\n",
       "      <th>KielerWoche</th>\n",
       "    </tr>\n",
       "  </thead>\n",
       "  <tbody>\n",
       "    <tr>\n",
       "      <th>0</th>\n",
       "      <td>2013-07-01</td>\n",
       "      <td>1307011</td>\n",
       "      <td>1</td>\n",
       "      <td>148.828353</td>\n",
       "      <td>6.0</td>\n",
       "      <td>17.8375</td>\n",
       "      <td>15.0</td>\n",
       "      <td>20.0</td>\n",
       "      <td>0.0</td>\n",
       "    </tr>\n",
       "    <tr>\n",
       "      <th>1</th>\n",
       "      <td>2013-07-01</td>\n",
       "      <td>1307013</td>\n",
       "      <td>3</td>\n",
       "      <td>201.198426</td>\n",
       "      <td>6.0</td>\n",
       "      <td>17.8375</td>\n",
       "      <td>15.0</td>\n",
       "      <td>20.0</td>\n",
       "      <td>0.0</td>\n",
       "    </tr>\n",
       "    <tr>\n",
       "      <th>2</th>\n",
       "      <td>2013-07-01</td>\n",
       "      <td>1307014</td>\n",
       "      <td>4</td>\n",
       "      <td>65.890169</td>\n",
       "      <td>6.0</td>\n",
       "      <td>17.8375</td>\n",
       "      <td>15.0</td>\n",
       "      <td>20.0</td>\n",
       "      <td>0.0</td>\n",
       "    </tr>\n",
       "    <tr>\n",
       "      <th>3</th>\n",
       "      <td>2013-07-01</td>\n",
       "      <td>1307015</td>\n",
       "      <td>5</td>\n",
       "      <td>317.475875</td>\n",
       "      <td>6.0</td>\n",
       "      <td>17.8375</td>\n",
       "      <td>15.0</td>\n",
       "      <td>20.0</td>\n",
       "      <td>0.0</td>\n",
       "    </tr>\n",
       "    <tr>\n",
       "      <th>4</th>\n",
       "      <td>2013-07-01</td>\n",
       "      <td>1307012</td>\n",
       "      <td>2</td>\n",
       "      <td>535.856285</td>\n",
       "      <td>6.0</td>\n",
       "      <td>17.8375</td>\n",
       "      <td>15.0</td>\n",
       "      <td>20.0</td>\n",
       "      <td>0.0</td>\n",
       "    </tr>\n",
       "  </tbody>\n",
       "</table>\n",
       "</div>"
      ],
      "text/plain": [
       "       Datum       id  Warengruppe      Umsatz  Bewoelkung  Temperatur  \\\n",
       "0 2013-07-01  1307011            1  148.828353         6.0     17.8375   \n",
       "1 2013-07-01  1307013            3  201.198426         6.0     17.8375   \n",
       "2 2013-07-01  1307014            4   65.890169         6.0     17.8375   \n",
       "3 2013-07-01  1307015            5  317.475875         6.0     17.8375   \n",
       "4 2013-07-01  1307012            2  535.856285         6.0     17.8375   \n",
       "\n",
       "   Windgeschwindigkeit  Wettercode  KielerWoche  \n",
       "0                 15.0        20.0          0.0  \n",
       "1                 15.0        20.0          0.0  \n",
       "2                 15.0        20.0          0.0  \n",
       "3                 15.0        20.0          0.0  \n",
       "4                 15.0        20.0          0.0  "
      ]
     },
     "metadata": {},
     "output_type": "display_data"
    }
   ],
   "source": [
    "### MISSING VALUE HANDLING\n",
    "merged_df = merged_df.set_index(\"Datum\")\n",
    "merged_df[\"Temperatur\"] = merged_df[\"Temperatur\"].interpolate(method=\"time\")\n",
    "merged_df[\"Windgeschwindigkeit\"] = merged_df[\"Windgeschwindigkeit\"].interpolate(method=\"time\")\n",
    "merged_df[\"Bewoelkung\"] = merged_df[\"Bewoelkung\"].interpolate(method=\"time\")\n",
    "merged_df[\"KielerWoche\"] = merged_df[\"KielerWoche\"].fillna(0)\n",
    "merged_df[\"Wettercode\"] = merged_df[\"Wettercode\"].fillna(method=\"ffill\").fillna(method=\"bfill\")\n",
    "merged_df = merged_df.reset_index()\n",
    "\n",
    "# print headers of the dataframes\n",
    "print(\"Merged DataFrame:\")\n",
    "display(merged_df.head())"
   ]
  },
  {
   "cell_type": "markdown",
   "id": "96817412",
   "metadata": {},
   "source": [
    "### Data Preparation"
   ]
  },
  {
   "cell_type": "code",
   "execution_count": 19,
   "id": "1cb55af6",
   "metadata": {},
   "outputs": [
    {
     "name": "stdout",
     "output_type": "stream",
     "text": [
      "Merged DataFrame:\n"
     ]
    },
    {
     "data": {
      "application/vnd.microsoft.datawrangler.viewer.v0+json": {
       "columns": [
        {
         "name": "index",
         "rawType": "int64",
         "type": "integer"
        },
        {
         "name": "Datum",
         "rawType": "datetime64[ns]",
         "type": "datetime"
        },
        {
         "name": "id",
         "rawType": "int64",
         "type": "integer"
        },
        {
         "name": "Warengruppe",
         "rawType": "int64",
         "type": "integer"
        },
        {
         "name": "Umsatz",
         "rawType": "float64",
         "type": "float"
        },
        {
         "name": "Bewoelkung",
         "rawType": "float64",
         "type": "float"
        },
        {
         "name": "Temperatur",
         "rawType": "float64",
         "type": "float"
        },
        {
         "name": "Windgeschwindigkeit",
         "rawType": "float64",
         "type": "float"
        },
        {
         "name": "Wettercode",
         "rawType": "float64",
         "type": "float"
        },
        {
         "name": "KielerWoche",
         "rawType": "float64",
         "type": "float"
        },
        {
         "name": "WetterCode_0",
         "rawType": "int64",
         "type": "integer"
        },
        {
         "name": "WetterCode_3",
         "rawType": "int64",
         "type": "integer"
        },
        {
         "name": "WetterCode_5",
         "rawType": "int64",
         "type": "integer"
        },
        {
         "name": "WetterCode_10",
         "rawType": "int64",
         "type": "integer"
        },
        {
         "name": "WetterCode_17",
         "rawType": "int64",
         "type": "integer"
        },
        {
         "name": "WetterCode_20",
         "rawType": "int64",
         "type": "integer"
        },
        {
         "name": "WetterCode_21",
         "rawType": "int64",
         "type": "integer"
        },
        {
         "name": "WetterCode_22",
         "rawType": "int64",
         "type": "integer"
        },
        {
         "name": "WetterCode_28",
         "rawType": "int64",
         "type": "integer"
        },
        {
         "name": "WetterCode_45",
         "rawType": "int64",
         "type": "integer"
        },
        {
         "name": "WetterCode_49",
         "rawType": "int64",
         "type": "integer"
        },
        {
         "name": "WetterCode_53",
         "rawType": "int64",
         "type": "integer"
        },
        {
         "name": "WetterCode_61",
         "rawType": "int64",
         "type": "integer"
        },
        {
         "name": "WetterCode_63",
         "rawType": "int64",
         "type": "integer"
        },
        {
         "name": "WetterCode_65",
         "rawType": "int64",
         "type": "integer"
        },
        {
         "name": "WetterCode_68",
         "rawType": "int64",
         "type": "integer"
        },
        {
         "name": "WetterCode_69",
         "rawType": "int64",
         "type": "integer"
        },
        {
         "name": "WetterCode_71",
         "rawType": "int64",
         "type": "integer"
        },
        {
         "name": "WetterCode_73",
         "rawType": "int64",
         "type": "integer"
        },
        {
         "name": "WetterCode_75",
         "rawType": "int64",
         "type": "integer"
        },
        {
         "name": "WetterCode_77",
         "rawType": "int64",
         "type": "integer"
        },
        {
         "name": "WetterCode_79",
         "rawType": "int64",
         "type": "integer"
        },
        {
         "name": "WetterCode_95",
         "rawType": "int64",
         "type": "integer"
        },
        {
         "name": "Warengruppe_1",
         "rawType": "int64",
         "type": "integer"
        },
        {
         "name": "Warengruppe_2",
         "rawType": "int64",
         "type": "integer"
        },
        {
         "name": "Warengruppe_3",
         "rawType": "int64",
         "type": "integer"
        },
        {
         "name": "Warengruppe_4",
         "rawType": "int64",
         "type": "integer"
        },
        {
         "name": "Warengruppe_5",
         "rawType": "int64",
         "type": "integer"
        },
        {
         "name": "Warengruppe_6",
         "rawType": "int64",
         "type": "integer"
        }
       ],
       "ref": "30676146-e15e-4e1d-be2e-b4fd211c07a5",
       "rows": [
        [
         "0",
         "2013-07-01 00:00:00",
         "1307011",
         "1",
         "148.828353112183",
         "6.0",
         "17.8375",
         "15.0",
         "20.0",
         "0.0",
         "0",
         "0",
         "0",
         "0",
         "0",
         "1",
         "0",
         "0",
         "0",
         "0",
         "0",
         "0",
         "0",
         "0",
         "0",
         "0",
         "0",
         "0",
         "0",
         "0",
         "0",
         "0",
         "0",
         "1",
         "0",
         "0",
         "0",
         "0",
         "0"
        ],
        [
         "1",
         "2013-07-01 00:00:00",
         "1307013",
         "3",
         "201.198425690037",
         "6.0",
         "17.8375",
         "15.0",
         "20.0",
         "0.0",
         "0",
         "0",
         "0",
         "0",
         "0",
         "1",
         "0",
         "0",
         "0",
         "0",
         "0",
         "0",
         "0",
         "0",
         "0",
         "0",
         "0",
         "0",
         "0",
         "0",
         "0",
         "0",
         "0",
         "0",
         "0",
         "1",
         "0",
         "0",
         "0"
        ],
        [
         "2",
         "2013-07-01 00:00:00",
         "1307014",
         "4",
         "65.890168799361",
         "6.0",
         "17.8375",
         "15.0",
         "20.0",
         "0.0",
         "0",
         "0",
         "0",
         "0",
         "0",
         "1",
         "0",
         "0",
         "0",
         "0",
         "0",
         "0",
         "0",
         "0",
         "0",
         "0",
         "0",
         "0",
         "0",
         "0",
         "0",
         "0",
         "0",
         "0",
         "0",
         "0",
         "1",
         "0",
         "0"
        ],
        [
         "3",
         "2013-07-01 00:00:00",
         "1307015",
         "5",
         "317.475874933038",
         "6.0",
         "17.8375",
         "15.0",
         "20.0",
         "0.0",
         "0",
         "0",
         "0",
         "0",
         "0",
         "1",
         "0",
         "0",
         "0",
         "0",
         "0",
         "0",
         "0",
         "0",
         "0",
         "0",
         "0",
         "0",
         "0",
         "0",
         "0",
         "0",
         "0",
         "0",
         "0",
         "0",
         "0",
         "1",
         "0"
        ],
        [
         "4",
         "2013-07-01 00:00:00",
         "1307012",
         "2",
         "535.856284785361",
         "6.0",
         "17.8375",
         "15.0",
         "20.0",
         "0.0",
         "0",
         "0",
         "0",
         "0",
         "0",
         "1",
         "0",
         "0",
         "0",
         "0",
         "0",
         "0",
         "0",
         "0",
         "0",
         "0",
         "0",
         "0",
         "0",
         "0",
         "0",
         "0",
         "0",
         "0",
         "1",
         "0",
         "0",
         "0",
         "0"
        ]
       ],
       "shape": {
        "columns": 38,
        "rows": 5
       }
      },
      "text/html": [
       "<div>\n",
       "<style scoped>\n",
       "    .dataframe tbody tr th:only-of-type {\n",
       "        vertical-align: middle;\n",
       "    }\n",
       "\n",
       "    .dataframe tbody tr th {\n",
       "        vertical-align: top;\n",
       "    }\n",
       "\n",
       "    .dataframe thead th {\n",
       "        text-align: right;\n",
       "    }\n",
       "</style>\n",
       "<table border=\"1\" class=\"dataframe\">\n",
       "  <thead>\n",
       "    <tr style=\"text-align: right;\">\n",
       "      <th></th>\n",
       "      <th>Datum</th>\n",
       "      <th>id</th>\n",
       "      <th>Warengruppe</th>\n",
       "      <th>Umsatz</th>\n",
       "      <th>Bewoelkung</th>\n",
       "      <th>Temperatur</th>\n",
       "      <th>Windgeschwindigkeit</th>\n",
       "      <th>Wettercode</th>\n",
       "      <th>KielerWoche</th>\n",
       "      <th>WetterCode_0</th>\n",
       "      <th>...</th>\n",
       "      <th>WetterCode_75</th>\n",
       "      <th>WetterCode_77</th>\n",
       "      <th>WetterCode_79</th>\n",
       "      <th>WetterCode_95</th>\n",
       "      <th>Warengruppe_1</th>\n",
       "      <th>Warengruppe_2</th>\n",
       "      <th>Warengruppe_3</th>\n",
       "      <th>Warengruppe_4</th>\n",
       "      <th>Warengruppe_5</th>\n",
       "      <th>Warengruppe_6</th>\n",
       "    </tr>\n",
       "  </thead>\n",
       "  <tbody>\n",
       "    <tr>\n",
       "      <th>0</th>\n",
       "      <td>2013-07-01</td>\n",
       "      <td>1307011</td>\n",
       "      <td>1</td>\n",
       "      <td>148.828353</td>\n",
       "      <td>6.0</td>\n",
       "      <td>17.8375</td>\n",
       "      <td>15.0</td>\n",
       "      <td>20.0</td>\n",
       "      <td>0.0</td>\n",
       "      <td>0</td>\n",
       "      <td>...</td>\n",
       "      <td>0</td>\n",
       "      <td>0</td>\n",
       "      <td>0</td>\n",
       "      <td>0</td>\n",
       "      <td>1</td>\n",
       "      <td>0</td>\n",
       "      <td>0</td>\n",
       "      <td>0</td>\n",
       "      <td>0</td>\n",
       "      <td>0</td>\n",
       "    </tr>\n",
       "    <tr>\n",
       "      <th>1</th>\n",
       "      <td>2013-07-01</td>\n",
       "      <td>1307013</td>\n",
       "      <td>3</td>\n",
       "      <td>201.198426</td>\n",
       "      <td>6.0</td>\n",
       "      <td>17.8375</td>\n",
       "      <td>15.0</td>\n",
       "      <td>20.0</td>\n",
       "      <td>0.0</td>\n",
       "      <td>0</td>\n",
       "      <td>...</td>\n",
       "      <td>0</td>\n",
       "      <td>0</td>\n",
       "      <td>0</td>\n",
       "      <td>0</td>\n",
       "      <td>0</td>\n",
       "      <td>0</td>\n",
       "      <td>1</td>\n",
       "      <td>0</td>\n",
       "      <td>0</td>\n",
       "      <td>0</td>\n",
       "    </tr>\n",
       "    <tr>\n",
       "      <th>2</th>\n",
       "      <td>2013-07-01</td>\n",
       "      <td>1307014</td>\n",
       "      <td>4</td>\n",
       "      <td>65.890169</td>\n",
       "      <td>6.0</td>\n",
       "      <td>17.8375</td>\n",
       "      <td>15.0</td>\n",
       "      <td>20.0</td>\n",
       "      <td>0.0</td>\n",
       "      <td>0</td>\n",
       "      <td>...</td>\n",
       "      <td>0</td>\n",
       "      <td>0</td>\n",
       "      <td>0</td>\n",
       "      <td>0</td>\n",
       "      <td>0</td>\n",
       "      <td>0</td>\n",
       "      <td>0</td>\n",
       "      <td>1</td>\n",
       "      <td>0</td>\n",
       "      <td>0</td>\n",
       "    </tr>\n",
       "    <tr>\n",
       "      <th>3</th>\n",
       "      <td>2013-07-01</td>\n",
       "      <td>1307015</td>\n",
       "      <td>5</td>\n",
       "      <td>317.475875</td>\n",
       "      <td>6.0</td>\n",
       "      <td>17.8375</td>\n",
       "      <td>15.0</td>\n",
       "      <td>20.0</td>\n",
       "      <td>0.0</td>\n",
       "      <td>0</td>\n",
       "      <td>...</td>\n",
       "      <td>0</td>\n",
       "      <td>0</td>\n",
       "      <td>0</td>\n",
       "      <td>0</td>\n",
       "      <td>0</td>\n",
       "      <td>0</td>\n",
       "      <td>0</td>\n",
       "      <td>0</td>\n",
       "      <td>1</td>\n",
       "      <td>0</td>\n",
       "    </tr>\n",
       "    <tr>\n",
       "      <th>4</th>\n",
       "      <td>2013-07-01</td>\n",
       "      <td>1307012</td>\n",
       "      <td>2</td>\n",
       "      <td>535.856285</td>\n",
       "      <td>6.0</td>\n",
       "      <td>17.8375</td>\n",
       "      <td>15.0</td>\n",
       "      <td>20.0</td>\n",
       "      <td>0.0</td>\n",
       "      <td>0</td>\n",
       "      <td>...</td>\n",
       "      <td>0</td>\n",
       "      <td>0</td>\n",
       "      <td>0</td>\n",
       "      <td>0</td>\n",
       "      <td>0</td>\n",
       "      <td>1</td>\n",
       "      <td>0</td>\n",
       "      <td>0</td>\n",
       "      <td>0</td>\n",
       "      <td>0</td>\n",
       "    </tr>\n",
       "  </tbody>\n",
       "</table>\n",
       "<p>5 rows × 38 columns</p>\n",
       "</div>"
      ],
      "text/plain": [
       "       Datum       id  Warengruppe      Umsatz  Bewoelkung  Temperatur  \\\n",
       "0 2013-07-01  1307011            1  148.828353         6.0     17.8375   \n",
       "1 2013-07-01  1307013            3  201.198426         6.0     17.8375   \n",
       "2 2013-07-01  1307014            4   65.890169         6.0     17.8375   \n",
       "3 2013-07-01  1307015            5  317.475875         6.0     17.8375   \n",
       "4 2013-07-01  1307012            2  535.856285         6.0     17.8375   \n",
       "\n",
       "   Windgeschwindigkeit  Wettercode  KielerWoche  WetterCode_0  ...  \\\n",
       "0                 15.0        20.0          0.0             0  ...   \n",
       "1                 15.0        20.0          0.0             0  ...   \n",
       "2                 15.0        20.0          0.0             0  ...   \n",
       "3                 15.0        20.0          0.0             0  ...   \n",
       "4                 15.0        20.0          0.0             0  ...   \n",
       "\n",
       "   WetterCode_75  WetterCode_77  WetterCode_79  WetterCode_95  Warengruppe_1  \\\n",
       "0              0              0              0              0              1   \n",
       "1              0              0              0              0              0   \n",
       "2              0              0              0              0              0   \n",
       "3              0              0              0              0              0   \n",
       "4              0              0              0              0              0   \n",
       "\n",
       "   Warengruppe_2  Warengruppe_3  Warengruppe_4  Warengruppe_5  Warengruppe_6  \n",
       "0              0              0              0              0              0  \n",
       "1              0              1              0              0              0  \n",
       "2              0              0              1              0              0  \n",
       "3              0              0              0              1              0  \n",
       "4              1              0              0              0              0  \n",
       "\n",
       "[5 rows x 38 columns]"
      ]
     },
     "metadata": {},
     "output_type": "display_data"
    }
   ],
   "source": [
    "### DEFINE CATEGORICAL VARIABLES\n",
    "wetter_dummies = pd.get_dummies(merged_df[\"Wettercode\"].astype(int), prefix=\"WetterCode\").astype(int)\n",
    "merged_df = pd.concat([merged_df, wetter_dummies], axis=1)\n",
    "\n",
    "warengruppe_dummies = pd.get_dummies(merged_df[\"Warengruppe\"], prefix=\"Warengruppe\").astype(int)\n",
    "merged_df = pd.concat([merged_df, warengruppe_dummies], axis=1)\n",
    "\n",
    "dummy_cols = list(wetter_dummies.columns) + list(warengruppe_dummies.columns)\n",
    "merged_df[dummy_cols] = merged_df[dummy_cols].astype(int)\n",
    "\n",
    "print(\"Merged DataFrame:\")\n",
    "display(merged_df.head())"
   ]
  },
  {
   "cell_type": "markdown",
   "id": "9b453cfe",
   "metadata": {},
   "source": [
    "### Define additional Variables"
   ]
  },
  {
   "cell_type": "code",
   "execution_count": 20,
   "id": "aed377b8",
   "metadata": {},
   "outputs": [
    {
     "name": "stderr",
     "output_type": "stream",
     "text": [
      "/tmp/ipykernel_80803/1209176653.py:47: FutureWarning: YF.download() has changed argument auto_adjust default to True\n",
      "  dax_df = yf1.download(\"^GDAXI\", start=\"2012-01-01\", end=\"2020-12-31\")[\"Close\"]\n",
      "[*********************100%***********************]  1 of 1 completed\n",
      "/tmp/ipykernel_80803/1209176653.py:51: FutureWarning: Series.fillna with 'method' is deprecated and will raise in a future version. Use obj.ffill() or obj.bfill() instead.\n",
      "  merged_df[\"DAX\"] = (merged_df[\"DAX\"].fillna(method=\"ffill\").fillna(method=\"bfill\"))\n"
     ]
    },
    {
     "name": "stdout",
     "output_type": "stream",
     "text": [
      "Merged DataFrame:\n"
     ]
    },
    {
     "data": {
      "application/vnd.microsoft.datawrangler.viewer.v0+json": {
       "columns": [
        {
         "name": "index",
         "rawType": "int64",
         "type": "integer"
        },
        {
         "name": "Datum",
         "rawType": "datetime64[ns]",
         "type": "datetime"
        },
        {
         "name": "id",
         "rawType": "int64",
         "type": "integer"
        },
        {
         "name": "Warengruppe",
         "rawType": "int64",
         "type": "integer"
        },
        {
         "name": "Umsatz",
         "rawType": "float64",
         "type": "float"
        },
        {
         "name": "Bewoelkung",
         "rawType": "float64",
         "type": "float"
        },
        {
         "name": "Temperatur",
         "rawType": "float64",
         "type": "float"
        },
        {
         "name": "Windgeschwindigkeit",
         "rawType": "float64",
         "type": "float"
        },
        {
         "name": "Wettercode",
         "rawType": "float64",
         "type": "float"
        },
        {
         "name": "KielerWoche",
         "rawType": "float64",
         "type": "float"
        },
        {
         "name": "WetterCode_0",
         "rawType": "int64",
         "type": "integer"
        },
        {
         "name": "WetterCode_3",
         "rawType": "int64",
         "type": "integer"
        },
        {
         "name": "WetterCode_5",
         "rawType": "int64",
         "type": "integer"
        },
        {
         "name": "WetterCode_10",
         "rawType": "int64",
         "type": "integer"
        },
        {
         "name": "WetterCode_17",
         "rawType": "int64",
         "type": "integer"
        },
        {
         "name": "WetterCode_20",
         "rawType": "int64",
         "type": "integer"
        },
        {
         "name": "WetterCode_21",
         "rawType": "int64",
         "type": "integer"
        },
        {
         "name": "WetterCode_22",
         "rawType": "int64",
         "type": "integer"
        },
        {
         "name": "WetterCode_28",
         "rawType": "int64",
         "type": "integer"
        },
        {
         "name": "WetterCode_45",
         "rawType": "int64",
         "type": "integer"
        },
        {
         "name": "WetterCode_49",
         "rawType": "int64",
         "type": "integer"
        },
        {
         "name": "WetterCode_53",
         "rawType": "int64",
         "type": "integer"
        },
        {
         "name": "WetterCode_61",
         "rawType": "int64",
         "type": "integer"
        },
        {
         "name": "WetterCode_63",
         "rawType": "int64",
         "type": "integer"
        },
        {
         "name": "WetterCode_65",
         "rawType": "int64",
         "type": "integer"
        },
        {
         "name": "WetterCode_68",
         "rawType": "int64",
         "type": "integer"
        },
        {
         "name": "WetterCode_69",
         "rawType": "int64",
         "type": "integer"
        },
        {
         "name": "WetterCode_71",
         "rawType": "int64",
         "type": "integer"
        },
        {
         "name": "WetterCode_73",
         "rawType": "int64",
         "type": "integer"
        },
        {
         "name": "WetterCode_75",
         "rawType": "int64",
         "type": "integer"
        },
        {
         "name": "WetterCode_77",
         "rawType": "int64",
         "type": "integer"
        },
        {
         "name": "WetterCode_79",
         "rawType": "int64",
         "type": "integer"
        },
        {
         "name": "WetterCode_95",
         "rawType": "int64",
         "type": "integer"
        },
        {
         "name": "Warengruppe_1",
         "rawType": "int64",
         "type": "integer"
        },
        {
         "name": "Warengruppe_2",
         "rawType": "int64",
         "type": "integer"
        },
        {
         "name": "Warengruppe_3",
         "rawType": "int64",
         "type": "integer"
        },
        {
         "name": "Warengruppe_4",
         "rawType": "int64",
         "type": "integer"
        },
        {
         "name": "Warengruppe_5",
         "rawType": "int64",
         "type": "integer"
        },
        {
         "name": "Warengruppe_6",
         "rawType": "int64",
         "type": "integer"
        },
        {
         "name": "sales_daily",
         "rawType": "float64",
         "type": "float"
        },
        {
         "name": "Feiertag",
         "rawType": "object",
         "type": "string"
        },
        {
         "name": "is_holiday",
         "rawType": "int64",
         "type": "integer"
        },
        {
         "name": "Christi Himmelfahrt",
         "rawType": "int64",
         "type": "integer"
        },
        {
         "name": "Erster Mai",
         "rawType": "int64",
         "type": "integer"
        },
        {
         "name": "Erster Weihnachtstag",
         "rawType": "int64",
         "type": "integer"
        },
        {
         "name": "Karfreitag",
         "rawType": "int64",
         "type": "integer"
        },
        {
         "name": "Neujahr",
         "rawType": "int64",
         "type": "integer"
        },
        {
         "name": "Ostermontag",
         "rawType": "int64",
         "type": "integer"
        },
        {
         "name": "Pfingstmontag",
         "rawType": "int64",
         "type": "integer"
        },
        {
         "name": "Reformationstag",
         "rawType": "int64",
         "type": "integer"
        },
        {
         "name": "Tag der Deutschen Einheit",
         "rawType": "int64",
         "type": "integer"
        },
        {
         "name": "Zweiter Weihnachtstag",
         "rawType": "int64",
         "type": "integer"
        },
        {
         "name": "DAX",
         "rawType": "float64",
         "type": "float"
        },
        {
         "name": "Wochentag",
         "rawType": "int32",
         "type": "integer"
        },
        {
         "name": "weekday_0",
         "rawType": "int64",
         "type": "integer"
        },
        {
         "name": "weekday_1",
         "rawType": "int64",
         "type": "integer"
        },
        {
         "name": "weekday_2",
         "rawType": "int64",
         "type": "integer"
        },
        {
         "name": "weekday_3",
         "rawType": "int64",
         "type": "integer"
        },
        {
         "name": "weekday_4",
         "rawType": "int64",
         "type": "integer"
        },
        {
         "name": "weekday_5",
         "rawType": "int64",
         "type": "integer"
        },
        {
         "name": "weekday_6",
         "rawType": "int64",
         "type": "integer"
        },
        {
         "name": "day_length_h",
         "rawType": "float64",
         "type": "float"
        },
        {
         "name": "fussball_event",
         "rawType": "int64",
         "type": "integer"
        },
        {
         "name": "schulferien",
         "rawType": "int64",
         "type": "integer"
        },
        {
         "name": "ferientyp",
         "rawType": "object",
         "type": "string"
        },
        {
         "name": "Ferien_Herbstferien",
         "rawType": "int64",
         "type": "integer"
        },
        {
         "name": "Ferien_Keine Ferien",
         "rawType": "int64",
         "type": "integer"
        },
        {
         "name": "Ferien_Osterferien",
         "rawType": "int64",
         "type": "integer"
        },
        {
         "name": "Ferien_Sommerferien",
         "rawType": "int64",
         "type": "integer"
        },
        {
         "name": "Ferien_Weihnachtsferien",
         "rawType": "int64",
         "type": "integer"
        },
        {
         "name": "Ferien_Winterferien",
         "rawType": "int64",
         "type": "integer"
        },
        {
         "name": "Monat",
         "rawType": "int32",
         "type": "integer"
        },
        {
         "name": "avg_sales_per_group_month_weekday",
         "rawType": "float64",
         "type": "float"
        }
       ],
       "ref": "14f202a1-50a9-4c68-b519-7cc3c7ee5f10",
       "rows": [
        [
         "0",
         "2013-07-01 00:00:00",
         "1307011",
         "1",
         "148.828353112183",
         "6.0",
         "17.8375",
         "15.0",
         "20.0",
         "0.0",
         "0",
         "0",
         "0",
         "0",
         "0",
         "1",
         "0",
         "0",
         "0",
         "0",
         "0",
         "0",
         "0",
         "0",
         "0",
         "0",
         "0",
         "0",
         "0",
         "0",
         "0",
         "0",
         "0",
         "1",
         "0",
         "0",
         "0",
         "0",
         "0",
         "1269.24910731998",
         "Kein Feiertag",
         "0",
         "0",
         "0",
         "0",
         "0",
         "0",
         "0",
         "0",
         "0",
         "0",
         "0",
         "7983.919921875",
         "0",
         "1",
         "0",
         "0",
         "0",
         "0",
         "0",
         "0",
         "17.10147313527778",
         "0",
         "1",
         "Sommerferien",
         "0",
         "0",
         "0",
         "1",
         "0",
         "0",
         "7",
         "156.36340507760673"
        ],
        [
         "1",
         "2013-07-01 00:00:00",
         "1307013",
         "3",
         "201.198425690037",
         "6.0",
         "17.8375",
         "15.0",
         "20.0",
         "0.0",
         "0",
         "0",
         "0",
         "0",
         "0",
         "1",
         "0",
         "0",
         "0",
         "0",
         "0",
         "0",
         "0",
         "0",
         "0",
         "0",
         "0",
         "0",
         "0",
         "0",
         "0",
         "0",
         "0",
         "0",
         "0",
         "1",
         "0",
         "0",
         "0",
         "1269.24910731998",
         "Kein Feiertag",
         "0",
         "0",
         "0",
         "0",
         "0",
         "0",
         "0",
         "0",
         "0",
         "0",
         "0",
         "7983.919921875",
         "0",
         "1",
         "0",
         "0",
         "0",
         "0",
         "0",
         "0",
         "17.10147313527778",
         "0",
         "1",
         "Sommerferien",
         "0",
         "0",
         "0",
         "1",
         "0",
         "0",
         "7",
         "239.5287803364937"
        ],
        [
         "2",
         "2013-07-01 00:00:00",
         "1307014",
         "4",
         "65.890168799361",
         "6.0",
         "17.8375",
         "15.0",
         "20.0",
         "0.0",
         "0",
         "0",
         "0",
         "0",
         "0",
         "1",
         "0",
         "0",
         "0",
         "0",
         "0",
         "0",
         "0",
         "0",
         "0",
         "0",
         "0",
         "0",
         "0",
         "0",
         "0",
         "0",
         "0",
         "0",
         "0",
         "0",
         "1",
         "0",
         "0",
         "1269.24910731998",
         "Kein Feiertag",
         "0",
         "0",
         "0",
         "0",
         "0",
         "0",
         "0",
         "0",
         "0",
         "0",
         "0",
         "7983.919921875",
         "0",
         "1",
         "0",
         "0",
         "0",
         "0",
         "0",
         "0",
         "17.10147313527778",
         "0",
         "1",
         "Sommerferien",
         "0",
         "0",
         "0",
         "1",
         "0",
         "0",
         "7",
         "81.70194453963646"
        ],
        [
         "3",
         "2013-07-01 00:00:00",
         "1307015",
         "5",
         "317.475874933038",
         "6.0",
         "17.8375",
         "15.0",
         "20.0",
         "0.0",
         "0",
         "0",
         "0",
         "0",
         "0",
         "1",
         "0",
         "0",
         "0",
         "0",
         "0",
         "0",
         "0",
         "0",
         "0",
         "0",
         "0",
         "0",
         "0",
         "0",
         "0",
         "0",
         "0",
         "0",
         "0",
         "0",
         "0",
         "1",
         "0",
         "1269.24910731998",
         "Kein Feiertag",
         "0",
         "0",
         "0",
         "0",
         "0",
         "0",
         "0",
         "0",
         "0",
         "0",
         "0",
         "7983.919921875",
         "0",
         "1",
         "0",
         "0",
         "0",
         "0",
         "0",
         "0",
         "17.10147313527778",
         "0",
         "1",
         "Sommerferien",
         "0",
         "0",
         "0",
         "1",
         "0",
         "0",
         "7",
         "297.24670542814204"
        ],
        [
         "4",
         "2013-07-01 00:00:00",
         "1307012",
         "2",
         "535.856284785361",
         "6.0",
         "17.8375",
         "15.0",
         "20.0",
         "0.0",
         "0",
         "0",
         "0",
         "0",
         "0",
         "1",
         "0",
         "0",
         "0",
         "0",
         "0",
         "0",
         "0",
         "0",
         "0",
         "0",
         "0",
         "0",
         "0",
         "0",
         "0",
         "0",
         "0",
         "0",
         "1",
         "0",
         "0",
         "0",
         "0",
         "1269.24910731998",
         "Kein Feiertag",
         "0",
         "0",
         "0",
         "0",
         "0",
         "0",
         "0",
         "0",
         "0",
         "0",
         "0",
         "7983.919921875",
         "0",
         "1",
         "0",
         "0",
         "0",
         "0",
         "0",
         "0",
         "17.10147313527778",
         "0",
         "1",
         "Sommerferien",
         "0",
         "0",
         "0",
         "1",
         "0",
         "0",
         "7",
         "532.2853245438093"
        ]
       ],
       "shape": {
        "columns": 72,
        "rows": 5
       }
      },
      "text/html": [
       "<div>\n",
       "<style scoped>\n",
       "    .dataframe tbody tr th:only-of-type {\n",
       "        vertical-align: middle;\n",
       "    }\n",
       "\n",
       "    .dataframe tbody tr th {\n",
       "        vertical-align: top;\n",
       "    }\n",
       "\n",
       "    .dataframe thead th {\n",
       "        text-align: right;\n",
       "    }\n",
       "</style>\n",
       "<table border=\"1\" class=\"dataframe\">\n",
       "  <thead>\n",
       "    <tr style=\"text-align: right;\">\n",
       "      <th></th>\n",
       "      <th>Datum</th>\n",
       "      <th>id</th>\n",
       "      <th>Warengruppe</th>\n",
       "      <th>Umsatz</th>\n",
       "      <th>Bewoelkung</th>\n",
       "      <th>Temperatur</th>\n",
       "      <th>Windgeschwindigkeit</th>\n",
       "      <th>Wettercode</th>\n",
       "      <th>KielerWoche</th>\n",
       "      <th>WetterCode_0</th>\n",
       "      <th>...</th>\n",
       "      <th>schulferien</th>\n",
       "      <th>ferientyp</th>\n",
       "      <th>Ferien_Herbstferien</th>\n",
       "      <th>Ferien_Keine Ferien</th>\n",
       "      <th>Ferien_Osterferien</th>\n",
       "      <th>Ferien_Sommerferien</th>\n",
       "      <th>Ferien_Weihnachtsferien</th>\n",
       "      <th>Ferien_Winterferien</th>\n",
       "      <th>Monat</th>\n",
       "      <th>avg_sales_per_group_month_weekday</th>\n",
       "    </tr>\n",
       "  </thead>\n",
       "  <tbody>\n",
       "    <tr>\n",
       "      <th>0</th>\n",
       "      <td>2013-07-01</td>\n",
       "      <td>1307011</td>\n",
       "      <td>1</td>\n",
       "      <td>148.828353</td>\n",
       "      <td>6.0</td>\n",
       "      <td>17.8375</td>\n",
       "      <td>15.0</td>\n",
       "      <td>20.0</td>\n",
       "      <td>0.0</td>\n",
       "      <td>0</td>\n",
       "      <td>...</td>\n",
       "      <td>1</td>\n",
       "      <td>Sommerferien</td>\n",
       "      <td>0</td>\n",
       "      <td>0</td>\n",
       "      <td>0</td>\n",
       "      <td>1</td>\n",
       "      <td>0</td>\n",
       "      <td>0</td>\n",
       "      <td>7</td>\n",
       "      <td>156.363405</td>\n",
       "    </tr>\n",
       "    <tr>\n",
       "      <th>1</th>\n",
       "      <td>2013-07-01</td>\n",
       "      <td>1307013</td>\n",
       "      <td>3</td>\n",
       "      <td>201.198426</td>\n",
       "      <td>6.0</td>\n",
       "      <td>17.8375</td>\n",
       "      <td>15.0</td>\n",
       "      <td>20.0</td>\n",
       "      <td>0.0</td>\n",
       "      <td>0</td>\n",
       "      <td>...</td>\n",
       "      <td>1</td>\n",
       "      <td>Sommerferien</td>\n",
       "      <td>0</td>\n",
       "      <td>0</td>\n",
       "      <td>0</td>\n",
       "      <td>1</td>\n",
       "      <td>0</td>\n",
       "      <td>0</td>\n",
       "      <td>7</td>\n",
       "      <td>239.528780</td>\n",
       "    </tr>\n",
       "    <tr>\n",
       "      <th>2</th>\n",
       "      <td>2013-07-01</td>\n",
       "      <td>1307014</td>\n",
       "      <td>4</td>\n",
       "      <td>65.890169</td>\n",
       "      <td>6.0</td>\n",
       "      <td>17.8375</td>\n",
       "      <td>15.0</td>\n",
       "      <td>20.0</td>\n",
       "      <td>0.0</td>\n",
       "      <td>0</td>\n",
       "      <td>...</td>\n",
       "      <td>1</td>\n",
       "      <td>Sommerferien</td>\n",
       "      <td>0</td>\n",
       "      <td>0</td>\n",
       "      <td>0</td>\n",
       "      <td>1</td>\n",
       "      <td>0</td>\n",
       "      <td>0</td>\n",
       "      <td>7</td>\n",
       "      <td>81.701945</td>\n",
       "    </tr>\n",
       "    <tr>\n",
       "      <th>3</th>\n",
       "      <td>2013-07-01</td>\n",
       "      <td>1307015</td>\n",
       "      <td>5</td>\n",
       "      <td>317.475875</td>\n",
       "      <td>6.0</td>\n",
       "      <td>17.8375</td>\n",
       "      <td>15.0</td>\n",
       "      <td>20.0</td>\n",
       "      <td>0.0</td>\n",
       "      <td>0</td>\n",
       "      <td>...</td>\n",
       "      <td>1</td>\n",
       "      <td>Sommerferien</td>\n",
       "      <td>0</td>\n",
       "      <td>0</td>\n",
       "      <td>0</td>\n",
       "      <td>1</td>\n",
       "      <td>0</td>\n",
       "      <td>0</td>\n",
       "      <td>7</td>\n",
       "      <td>297.246705</td>\n",
       "    </tr>\n",
       "    <tr>\n",
       "      <th>4</th>\n",
       "      <td>2013-07-01</td>\n",
       "      <td>1307012</td>\n",
       "      <td>2</td>\n",
       "      <td>535.856285</td>\n",
       "      <td>6.0</td>\n",
       "      <td>17.8375</td>\n",
       "      <td>15.0</td>\n",
       "      <td>20.0</td>\n",
       "      <td>0.0</td>\n",
       "      <td>0</td>\n",
       "      <td>...</td>\n",
       "      <td>1</td>\n",
       "      <td>Sommerferien</td>\n",
       "      <td>0</td>\n",
       "      <td>0</td>\n",
       "      <td>0</td>\n",
       "      <td>1</td>\n",
       "      <td>0</td>\n",
       "      <td>0</td>\n",
       "      <td>7</td>\n",
       "      <td>532.285325</td>\n",
       "    </tr>\n",
       "  </tbody>\n",
       "</table>\n",
       "<p>5 rows × 72 columns</p>\n",
       "</div>"
      ],
      "text/plain": [
       "       Datum       id  Warengruppe      Umsatz  Bewoelkung  Temperatur  \\\n",
       "0 2013-07-01  1307011            1  148.828353         6.0     17.8375   \n",
       "1 2013-07-01  1307013            3  201.198426         6.0     17.8375   \n",
       "2 2013-07-01  1307014            4   65.890169         6.0     17.8375   \n",
       "3 2013-07-01  1307015            5  317.475875         6.0     17.8375   \n",
       "4 2013-07-01  1307012            2  535.856285         6.0     17.8375   \n",
       "\n",
       "   Windgeschwindigkeit  Wettercode  KielerWoche  WetterCode_0  ...  \\\n",
       "0                 15.0        20.0          0.0             0  ...   \n",
       "1                 15.0        20.0          0.0             0  ...   \n",
       "2                 15.0        20.0          0.0             0  ...   \n",
       "3                 15.0        20.0          0.0             0  ...   \n",
       "4                 15.0        20.0          0.0             0  ...   \n",
       "\n",
       "   schulferien     ferientyp  Ferien_Herbstferien  Ferien_Keine Ferien  \\\n",
       "0            1  Sommerferien                    0                    0   \n",
       "1            1  Sommerferien                    0                    0   \n",
       "2            1  Sommerferien                    0                    0   \n",
       "3            1  Sommerferien                    0                    0   \n",
       "4            1  Sommerferien                    0                    0   \n",
       "\n",
       "   Ferien_Osterferien  Ferien_Sommerferien  Ferien_Weihnachtsferien  \\\n",
       "0                   0                    1                        0   \n",
       "1                   0                    1                        0   \n",
       "2                   0                    1                        0   \n",
       "3                   0                    1                        0   \n",
       "4                   0                    1                        0   \n",
       "\n",
       "   Ferien_Winterferien  Monat  avg_sales_per_group_month_weekday  \n",
       "0                    0      7                         156.363405  \n",
       "1                    0      7                         239.528780  \n",
       "2                    0      7                          81.701945  \n",
       "3                    0      7                         297.246705  \n",
       "4                    0      7                         532.285325  \n",
       "\n",
       "[5 rows x 72 columns]"
      ]
     },
     "metadata": {},
     "output_type": "display_data"
    }
   ],
   "source": [
    "# ### take sales from last week\n",
    "# merged_df[\"sales_last_week\"] = merged_df[\"Umsatz\"].shift(7)\n",
    "# merged_df[\"sales_last_week\"] = merged_df[\"sales_last_week\"].fillna(0)\n",
    "# merged_df[\"sales_last_week\"] = merged_df[\"sales_last_week\"].astype(float)\n",
    "\n",
    "# ### TAKE SALES FROM LAST YEAR\n",
    "# merged_df[\"sales_last_year\"] = merged_df[\"Umsatz\"].shift(365)\n",
    "# merged_df[\"sales_last_year\"] = merged_df[\"sales_last_year\"].fillna(0)\n",
    "# merged_df[\"sales_last_year\"] = merged_df[\"sales_last_year\"].astype(float)\n",
    "# merged_df = merged_df.dropna(subset=[\"sales_last_week\", \"sales_last_year\"])\n",
    "\n",
    "### COMBINE WARENGRUPPEN SALES\n",
    "sales_daily_df = merged_df.groupby(\"Datum\")[\"Umsatz\"].sum().reset_index()\n",
    "sales_daily_df = sales_daily_df.rename(columns={\"Umsatz\": \"sales_daily\"})\n",
    "merged_df = pd.merge(merged_df, sales_daily_df, on=\"Datum\", how=\"left\")\n",
    "\n",
    " \n",
    "### FEIERTAGE\n",
    "import holidays\n",
    "de_holidays = holidays.Germany(years=range(2012, 2021), subdiv='SH')\n",
    "hol_df = pd.DataFrame(list(de_holidays.items()), columns=[\"Datum\", \"Feiertag\"])\n",
    "hol_df[\"Datum\"] = pd.to_datetime(hol_df[\"Datum\"]).dt.normalize()\n",
    "hol_df[\"is_holiday\"] = 1\n",
    "\n",
    "relevante_feiertage = [\"Erster Weihnachtstag\", \"Zweiter Weihnachtstag\", \"Karfreitag\", \"Ostersonntag\", \"Ostermontag\", \"Neujahr\"]\n",
    "vortage = hol_df[hol_df[\"Feiertag\"].isin(relevante_feiertage)].copy()\n",
    "vortage[\"Datum\"] = vortage[\"Datum\"] - pd.Timedelta(days=1)\n",
    "vortage[\"Feiertag\"] = vortage[\"Feiertag\"] + \" (Vortag)\"\n",
    "\n",
    "hol_df_erweitert = pd.concat([hol_df, vortage], ignore_index=True)\n",
    "hol_df_erweitert = hol_df_erweitert.drop_duplicates(subset=\"Datum\")\n",
    "\n",
    "merged_df[\"Datum\"] = pd.to_datetime(merged_df[\"Datum\"]).dt.normalize()\n",
    "merged_df = pd.merge(merged_df, hol_df_erweitert[[\"Datum\", \"Feiertag\"]], on=\"Datum\", how=\"left\")\n",
    "merged_df[\"Feiertag\"] = merged_df[\"Feiertag\"].fillna(\"Kein Feiertag\")\n",
    "merged_df[\"is_holiday\"] = (merged_df[\"Feiertag\"] != \"Kein Feiertag\").astype(int)\n",
    "\n",
    "hol_onehot = hol_df.assign(Wert=1).pivot_table(index=\"Datum\", columns=\"Feiertag\", values=\"Wert\", fill_value=0).reset_index()\n",
    "merged_df[\"Datum\"] = pd.to_datetime(merged_df[\"Datum\"]).dt.normalize()\n",
    "merged_df = merged_df.merge(hol_onehot, on=\"Datum\", how=\"left\")\n",
    "feiertagsspalten = hol_onehot.columns.drop(\"Datum\")\n",
    "merged_df[feiertagsspalten] = merged_df[feiertagsspalten].fillna(0).astype(int)\n",
    "\n",
    "\n",
    "### DAX\n",
    "import yfinance as yf1\n",
    "dax_df = yf1.download(\"^GDAXI\", start=\"2012-01-01\", end=\"2020-12-31\")[\"Close\"]\n",
    "dax_df = (dax_df.reset_index().rename(columns={'Date': 'Datum','Close': 'DAX_Close'}))\n",
    "dax_df = dax_df.rename(columns={\"^GDAXI\": \"DAX\"})\n",
    "merged_df = merged_df.merge(dax_df, on=\"Datum\", how=\"left\")\n",
    "merged_df[\"DAX\"] = (merged_df[\"DAX\"].fillna(method=\"ffill\").fillna(method=\"bfill\"))\n",
    "\n",
    "\n",
    "### WOCHENTAG\n",
    "merged_df[\"Wochentag\"] = merged_df[\"Datum\"].dt.weekday\n",
    "wochentag_dummies = pd.get_dummies(merged_df[\"Wochentag\"], prefix=\"weekday\")\n",
    "merged_df = pd.concat([merged_df, wochentag_dummies], axis=1)\n",
    "dummy_cols = list(wochentag_dummies.columns) \n",
    "merged_df[dummy_cols] = merged_df[dummy_cols].astype(int)\n",
    "\n",
    "\n",
    "### SUNHOURS\n",
    "from astral import sun\n",
    "from astral import Observer\n",
    "obs = Observer(latitude=54.3233, longitude=10.1228)\n",
    "merged_df['day_length_h'] = merged_df['Datum'].dt.date.apply(lambda d: (sun.sun(observer=obs, date=d, tzinfo=None)['sunset'] - sun.sun(observer=obs, date=d, tzinfo=None)['sunrise']).total_seconds() / 3600)\n",
    "\n",
    "\n",
    "### FUSSBALL!!!\n",
    "def fussball_flag(datum):\n",
    "    em_2016 = pd.Timestamp('2016-06-10') <= datum <= pd.Timestamp('2016-07-10')\n",
    "    em_2021 = pd.Timestamp('2021-06-11') <= datum <= pd.Timestamp('2021-07-11')\n",
    "    wm_2014 = pd.Timestamp('2014-06-12') <= datum <= pd.Timestamp('2014-07-13')\n",
    "    wm_2018 = pd.Timestamp('2018-06-14') <= datum <= pd.Timestamp('2018-07-15')\n",
    "    return int(em_2016 or em_2021 or wm_2014 or wm_2018)\n",
    "merged_df[\"fussball_event\"] = merged_df[\"Datum\"].apply(fussball_flag)\n",
    "\n",
    "\n",
    "### SCHULFERIEN\n",
    "ferien_liste = [\n",
    "    # 2013\n",
    "    {\"name\": \"Winterferien\", \"start\": \"2013-01-31\", \"end\": \"2013-02-01\"},\n",
    "    {\"name\": \"Osterferien\", \"start\": \"2013-03-25\", \"end\": \"2013-04-09\"},\n",
    "    {\"name\": \"Sommerferien\", \"start\": \"2013-06-24\", \"end\": \"2013-08-03\"},\n",
    "    {\"name\": \"Herbstferien\", \"start\": \"2013-10-04\", \"end\": \"2013-10-18\"},\n",
    "    {\"name\": \"Weihnachtsferien\", \"start\": \"2013-12-23\", \"end\": \"2014-01-06\"},\n",
    "\n",
    "    # 2014\n",
    "    {\"name\": \"Winterferien\", \"start\": \"2014-01-31\", \"end\": \"2014-01-31\"},\n",
    "    {\"name\": \"Osterferien\", \"start\": \"2014-04-16\", \"end\": \"2014-05-02\"},\n",
    "    {\"name\": \"Sommerferien\", \"start\": \"2014-07-14\", \"end\": \"2014-08-23\"},\n",
    "    {\"name\": \"Herbstferien\", \"start\": \"2014-10-13\", \"end\": \"2014-10-25\"},\n",
    "    {\"name\": \"Weihnachtsferien\", \"start\": \"2014-12-22\", \"end\": \"2015-01-06\"},\n",
    "\n",
    "    # 2015\n",
    "    {\"name\": \"Winterferien\", \"start\": \"2015-01-30\", \"end\": \"2015-01-30\"},\n",
    "    {\"name\": \"Osterferien\", \"start\": \"2015-03-30\", \"end\": \"2015-04-17\"},\n",
    "    {\"name\": \"Sommerferien\", \"start\": \"2015-07-20\", \"end\": \"2015-08-29\"},\n",
    "    {\"name\": \"Herbstferien\", \"start\": \"2015-10-19\", \"end\": \"2015-10-31\"},\n",
    "    {\"name\": \"Weihnachtsferien\", \"start\": \"2015-12-21\", \"end\": \"2016-01-06\"},\n",
    "\n",
    "    # 2016\n",
    "    {\"name\": \"Winterferien\", \"start\": \"2016-02-01\", \"end\": \"2016-02-02\"},\n",
    "    {\"name\": \"Osterferien\", \"start\": \"2016-03-21\", \"end\": \"2016-04-02\"},\n",
    "    {\"name\": \"Sommerferien\", \"start\": \"2016-07-25\", \"end\": \"2016-09-03\"},\n",
    "    {\"name\": \"Herbstferien\", \"start\": \"2016-10-17\", \"end\": \"2016-10-29\"},\n",
    "    {\"name\": \"Weihnachtsferien\", \"start\": \"2016-12-23\", \"end\": \"2017-01-06\"},\n",
    "\n",
    "    # 2017\n",
    "    {\"name\": \"Winterferien\", \"start\": \"2017-01-30\", \"end\": \"2017-01-31\"},\n",
    "    {\"name\": \"Osterferien\", \"start\": \"2017-04-03\", \"end\": \"2017-04-18\"},\n",
    "    {\"name\": \"Sommerferien\", \"start\": \"2017-07-24\", \"end\": \"2017-09-02\"},\n",
    "    {\"name\": \"Herbstferien\", \"start\": \"2017-10-16\", \"end\": \"2017-10-27\"},\n",
    "    {\"name\": \"Weihnachtsferien\", \"start\": \"2017-12-21\", \"end\": \"2018-01-06\"},\n",
    "\n",
    "    # 2018\n",
    "    {\"name\": \"Winterferien\", \"start\": \"2018-02-01\", \"end\": \"2018-02-02\"},\n",
    "    {\"name\": \"Osterferien\", \"start\": \"2018-03-29\", \"end\": \"2018-04-21\"},\n",
    "    {\"name\": \"Sommerferien\", \"start\": \"2018-07-09\", \"end\": \"2018-08-18\"},\n",
    "    {\"name\": \"Herbstferien\", \"start\": \"2018-10-01\", \"end\": \"2018-10-19\"},\n",
    "    {\"name\": \"Weihnachtsferien\", \"start\": \"2018-12-21\", \"end\": \"2019-01-06\"},\n",
    "\n",
    "    # 2019\n",
    "    {\"name\": \"Winterferien\", \"start\": \"2019-01-31\", \"end\": \"2019-02-01\"},\n",
    "    {\"name\": \"Osterferien\", \"start\": \"2019-04-04\", \"end\": \"2019-04-18\"},\n",
    "    {\"name\": \"Sommerferien\", \"start\": \"2019-06-28\", \"end\": \"2019-08-07\"},\n",
    "    {\"name\": \"Herbstferien\", \"start\": \"2019-10-04\", \"end\": \"2019-10-18\"},\n",
    "    {\"name\": \"Weihnachtsferien\", \"start\": \"2019-12-23\", \"end\": \"2020-01-06\"},\n",
    "\n",
    "    # 2020\n",
    "    {\"name\": \"Winterferien\", \"start\": \"2020-01-31\", \"end\": \"2020-01-31\"},\n",
    "    {\"name\": \"Osterferien\", \"start\": \"2020-04-06\", \"end\": \"2020-04-18\"},\n",
    "    {\"name\": \"Sommerferien\", \"start\": \"2020-06-29\", \"end\": \"2020-08-08\"},\n",
    "    {\"name\": \"Herbstferien\", \"start\": \"2020-10-05\", \"end\": \"2020-10-17\"},\n",
    "    {\"name\": \"Weihnachtsferien\", \"start\": \"2020-12-21\", \"end\": \"2021-01-06\"},\n",
    "\n",
    "    # 2021\n",
    "    {\"name\": \"Winterferien\", \"start\": \"2021-02-01\", \"end\": \"2021-02-02\"},\n",
    "    {\"name\": \"Osterferien\", \"start\": \"2021-04-01\", \"end\": \"2021-04-16\"},\n",
    "    {\"name\": \"Sommerferien\", \"start\": \"2021-06-21\", \"end\": \"2021-07-31\"},\n",
    "    {\"name\": \"Herbstferien\", \"start\": \"2021-10-04\", \"end\": \"2021-10-16\"},\n",
    "    {\"name\": \"Weihnachtsferien\", \"start\": \"2021-12-23\", \"end\": \"2022-01-07\"},\n",
    "]\n",
    "\n",
    "# Ferien-Flag initialisieren\n",
    "merged_df[\"schulferien\"] = 0\n",
    "merged_df[\"ferientyp\"] = \"Keine Ferien\"\n",
    "\n",
    "df_ferien = pd.DataFrame(ferien_liste)\n",
    "df_ferien[\"start\"] = pd.to_datetime(df_ferien[\"start\"])\n",
    "df_ferien[\"end\"] = pd.to_datetime(df_ferien[\"end\"])\n",
    "\n",
    "for _, row in df_ferien.iterrows():\n",
    "    maske = (merged_df[\"Datum\"] >= row[\"start\"]) & (merged_df[\"Datum\"] <= row[\"end\"])\n",
    "    merged_df.loc[maske, \"schulferien\"] = 1\n",
    "    merged_df.loc[maske, \"ferientyp\"] = row[\"name\"]\n",
    "\n",
    "ferien_dummies = pd.get_dummies(merged_df[\"ferientyp\"], prefix=\"Ferien\")\n",
    "merged_df = pd.concat([merged_df, ferien_dummies], axis=1)\n",
    "dummy_cols = list(ferien_dummies.columns)\n",
    "merged_df[dummy_cols] = merged_df[dummy_cols].astype(int)\n",
    "\n",
    "#\n",
    "merged_df[\"Monat\"] = merged_df[\"Datum\"].dt.month\n",
    "merged_df[\"Wochentag\"] = merged_df[\"Datum\"].dt.weekday\n",
    "\n",
    "# Durchschnittlicher Umsatz pro Warengruppe, Monat, Wochentag berechnen\n",
    "avg_sales = (merged_df.groupby([\"Warengruppe\", \"Monat\", \"Wochentag\"])[\"Umsatz\"].mean().reset_index().rename(columns={\"Umsatz\": \"avg_sales_per_group_month_weekday\"}))\n",
    "\n",
    "\n",
    "\n",
    "\n",
    "# Merge zurück ins merged_df (auf die passenden Zeilen)\n",
    "merged_df = pd.merge(merged_df, avg_sales, on=[\"Warengruppe\", \"Monat\", \"Wochentag\"], how=\"left\")\n",
    "\n",
    "\n",
    "\n",
    "print(\"Merged DataFrame:\")\n",
    "display(merged_df.head())\n"
   ]
  },
  {
   "cell_type": "markdown",
   "id": "9558d18c",
   "metadata": {},
   "source": [
    "### Splitting Data"
   ]
  },
  {
   "cell_type": "code",
   "execution_count": 21,
   "id": "6bb45952",
   "metadata": {},
   "outputs": [],
   "source": [
    "import pandas as pd\n",
    "from datetime import datetime\n",
    "\n",
    "# Convert Datum column to datetime if not already done\n",
    "merged_df['Datum'] = pd.to_datetime(merged_df['Datum'])\n",
    "\n",
    "# Define date ranges for splitting\n",
    "train_start = datetime(2013, 7, 1)\n",
    "train_end = datetime(2017, 7, 31)\n",
    "val_start = datetime(2017, 8, 1)\n",
    "val_end = datetime(2018, 7, 31)\n",
    "test_start = datetime(2018, 8, 1)\n",
    "test_end = datetime(2019, 7, 31)\n",
    "\n",
    "# Split the dataset based on date ranges\n",
    "train_set = merged_df[(merged_df['Datum'] >= train_start) & \n",
    "                      (merged_df['Datum'] <= train_end)].copy()\n",
    "\n",
    "validation_set = merged_df[(merged_df['Datum'] >= val_start) & \n",
    "                          (merged_df['Datum'] <= val_end)].copy()\n",
    "\n",
    "test_set = merged_df[(merged_df['Datum'] >= test_start) & \n",
    "                     (merged_df['Datum'] <= test_end)].copy()"
   ]
  },
  {
   "cell_type": "markdown",
   "metadata": {},
   "source": [
    "### Store Data"
   ]
  },
  {
   "cell_type": "code",
   "execution_count": 22,
   "id": "e6a3279d",
   "metadata": {},
   "outputs": [],
   "source": [
    "### STORE DATA\n",
    "merged_df.to_csv(\"../0_DataPreparation/merged_output.csv\", index=False)\n",
    "\n",
    "train_set.to_csv(\"../0_DataPreparation/train_set.csv\", index=False, mode='w')\n",
    "validation_set.to_csv(\"../0_DataPreparation/validation_set.csv\", index=False, mode='w')\n",
    "test_set.to_csv(\"../0_DataPreparation/test_set.csv\", index=False, mode='w')"
   ]
  }
 ],
 "metadata": {
  "kernelspec": {
   "display_name": "Python 3",
   "language": "python",
   "name": "python3"
  },
  "language_info": {
   "codemirror_mode": {
    "name": "ipython",
    "version": 3
   },
   "file_extension": ".py",
   "mimetype": "text/x-python",
   "name": "python",
   "nbconvert_exporter": "python",
   "pygments_lexer": "ipython3",
   "version": "3.12.1"
  }
 },
 "nbformat": 4,
 "nbformat_minor": 5
}
